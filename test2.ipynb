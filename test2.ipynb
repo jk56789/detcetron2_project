{
 "cells": [
  {
   "cell_type": "code",
   "execution_count": null,
   "metadata": {},
   "outputs": [],
   "source": []
  }
 ],
 "metadata": {
  "kernelspec": {
   "display_name": "Python 3.7.9 ('detectron2_test1': venv)",
   "language": "python",
   "name": "python3"
  },
  "language_info": {
   "name": "python",
   "version": "3.7.9"
  },
  "orig_nbformat": 4,
  "vscode": {
   "interpreter": {
    "hash": "acf3f202025f9fe31e0287aed35bf01706cfd574e4e77109d71e12d4c868728f"
   }
  }
 },
 "nbformat": 4,
 "nbformat_minor": 2
}
